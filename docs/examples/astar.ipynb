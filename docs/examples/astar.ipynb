{
 "cells": [
  {
   "cell_type": "markdown",
   "metadata": {},
   "source": [
    "# A* Path Planning in a Grid Environment with Obstacles\n",
    "\n",
    "This notebook demonstrates how to use the `AStar` algorithm for path planning in a 3D grid environment with obstacles. The environment, start and goal points, and obstacles are defined in Unity world coordinates, and a grid resolution is used to map the environment into a grid.\n"
   ]
  },
  {
   "cell_type": "code",
   "execution_count": 1,
   "metadata": {},
   "outputs": [],
   "source": [
    "# Import necessary libraries\n",
    "import numpy as np\n",
    "from mplanner.core.environment import DMove, Grid\n",
    "from mplanner.algorithms.astar import AStar\n",
    "from mplanner.core.utils import mark_obstacles, calculate_grid_size, to_grid_coords\n"
   ]
  },
  {
   "cell_type": "code",
   "execution_count": 16,
   "metadata": {},
   "outputs": [],
   "source": [
    "# Configuration Parameters\n",
    "resolution = 0.8  # Grid cell size in meters\n",
    "environment_bounds = {\n",
    "    \"min\": (-5, 0, -5),  # Minimum bounds of the environment in Unity coordinates\n",
    "    \"max\": (5, 5, 5),    # Maximum bounds of the environment in Unity coordinates\n",
    "}\n",
    "origin = environment_bounds[\"min\"]  # Origin set as the minimum bounds\n",
    "\n",
    "# Calculate the grid size automatically based on the environment bounds and resolution\n",
    "grid_size = calculate_grid_size(environment_bounds, resolution)\n",
    "\n",
    "# Initialize the grid matrix with 1s (walkable areas)\n",
    "matrix = np.ones(grid_size, dtype=np.int8)\n",
    "\n",
    "# Define obstacles in the environment\n",
    "# Each obstacle is defined by its center position and dimensions in Unity coordinates\n",
    "obstacles = [\n",
    "    ((1.63, 1.82, 1.59), (1.00, 1.00, 1.00)),  # Cube_1\n",
    "    ((-1.31, 1.85, -1.82), (1.00, 1.00, 1.00)),  # Cube_2\n",
    "]\n"
   ]
  },
  {
   "cell_type": "code",
   "execution_count": 17,
   "metadata": {},
   "outputs": [],
   "source": [
    "# Mark the obstacles in the grid\n",
    "for position, dimensions in obstacles:\n",
    "    mark_obstacles(matrix, position, dimensions, resolution, origin)\n"
   ]
  },
  {
   "cell_type": "code",
   "execution_count": 18,
   "metadata": {},
   "outputs": [],
   "source": [
    "# Create the grid object\n",
    "grid = Grid(matrix=matrix)\n",
    "\n",
    "# Define the start and end positions in Unity coordinates\n",
    "start_position = (2.16, 2.24, -2.88)  # Start position\n",
    "end_position = (-1.05, 1.96, 3.09)    # End position\n",
    "\n",
    "# Convert the start and end positions to grid coordinates\n",
    "start_coords = to_grid_coords(start_position, resolution, origin)\n",
    "end_coords = to_grid_coords(end_position, resolution, origin)\n",
    "\n",
    "# Create start and end nodes in the grid\n",
    "start = grid.node(*start_coords)\n",
    "end = grid.node(*end_coords)"
   ]
  },
  {
   "cell_type": "code",
   "execution_count": 19,
   "metadata": {},
   "outputs": [],
   "source": [
    "# Initialize the A* path planner\n",
    "planner = AStar(diagonal_movement=DMove.NEVER)\n",
    "\n",
    "# Run the A* algorithm to compute the path\n",
    "path, runs = planner.get_planned_path(start, end, grid)"
   ]
  },
  {
   "cell_type": "code",
   "execution_count": 20,
   "metadata": {},
   "outputs": [
    {
     "name": "stdout",
     "output_type": "stream",
     "text": [
      "Operations: 0 Path Length: 13\n",
      "List of waypoints\n",
      "(2.2, 2.4, -2.6)\n",
      "(2.2, 1.6, -2.6)\n",
      "(1.4, 1.6, -2.6)\n",
      "(0.6, 1.6, -2.6)\n",
      "(-0.2, 1.6, -2.6)\n",
      "(-0.2, 1.6, -1.8)\n",
      "(-0.2, 1.6, -1.0)\n",
      "(-1.0, 1.6, -1.0)\n",
      "(-1.0, 1.6, -0.2)\n",
      "(-1.0, 1.6, 0.6)\n",
      "(-1.0, 1.6, 1.4)\n",
      "(-1.0, 1.6, 2.2)\n",
      "(-1.0, 1.6, 3.0)\n"
     ]
    }
   ],
   "source": [
    "# Convert the path back to Unity world coordinates\n",
    "waypoints = [\n",
    "    ((origin[0] + p.x * resolution).__round__(2), (origin[1] + p.y * resolution).__round__(2), (origin[2] + p.z * resolution).__round__(2))\n",
    "    for p in path\n",
    "]\n",
    "\n",
    "print(\"Operations:\", runs, \"Path Length:\", len(path))\n",
    "print(\"List of waypoints\")\n",
    "for p in waypoints:\n",
    "    print(p)"
   ]
  }
 ],
 "metadata": {
  "kernelspec": {
   "display_name": "mplanner-fHPRTqy4-py3.10",
   "language": "python",
   "name": "python3"
  },
  "language_info": {
   "codemirror_mode": {
    "name": "ipython",
    "version": 3
   },
   "file_extension": ".py",
   "mimetype": "text/x-python",
   "name": "python",
   "nbconvert_exporter": "python",
   "pygments_lexer": "ipython3",
   "version": "3.10.15"
  }
 },
 "nbformat": 4,
 "nbformat_minor": 2
}
